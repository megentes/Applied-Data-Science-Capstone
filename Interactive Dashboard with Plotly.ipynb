{
 "cells": [
  {
   "cell_type": "code",
   "execution_count": 1,
   "metadata": {},
   "outputs": [
    {
     "name": "stdout",
     "output_type": "stream",
     "text": [
      "Collecting dash\n",
      "  Downloading dash-2.2.0-py3-none-any.whl (8.5 MB)\n",
      "\u001b[K     |████████████████████████████████| 8.5 MB 4.1 MB/s eta 0:00:01\n",
      "\u001b[?25hRequirement already satisfied: Flask>=1.0.4 in ./opt/anaconda3/lib/python3.7/site-packages (from dash) (1.1.1)\n",
      "Collecting plotly>=5.0.0\n",
      "  Downloading plotly-5.6.0-py2.py3-none-any.whl (27.7 MB)\n",
      "\u001b[K     |████████████████████████████████| 27.7 MB 1.7 MB/s eta 0:00:01\n",
      "\u001b[?25hCollecting dash-html-components==2.0.0\n",
      "  Downloading dash_html_components-2.0.0.tar.gz (3.8 kB)\n",
      "Collecting dash-core-components==2.0.0\n",
      "  Downloading dash_core_components-2.0.0.tar.gz (3.4 kB)\n",
      "Collecting flask-compress\n",
      "  Downloading Flask_Compress-1.10.1-py3-none-any.whl (7.9 kB)\n",
      "Collecting dash-table==5.0.0\n",
      "  Downloading dash_table-5.0.0.tar.gz (3.4 kB)\n",
      "Requirement already satisfied: itsdangerous>=0.24 in ./opt/anaconda3/lib/python3.7/site-packages (from Flask>=1.0.4->dash) (1.1.0)\n",
      "Requirement already satisfied: click>=5.1 in ./opt/anaconda3/lib/python3.7/site-packages (from Flask>=1.0.4->dash) (7.0)\n",
      "Requirement already satisfied: Jinja2>=2.10.1 in ./opt/anaconda3/lib/python3.7/site-packages (from Flask>=1.0.4->dash) (2.11.1)\n",
      "Requirement already satisfied: Werkzeug>=0.15 in ./opt/anaconda3/lib/python3.7/site-packages (from Flask>=1.0.4->dash) (1.0.0)\n",
      "Requirement already satisfied: six in ./opt/anaconda3/lib/python3.7/site-packages (from plotly>=5.0.0->dash) (1.14.0)\n",
      "Collecting tenacity>=6.2.0\n",
      "  Downloading tenacity-8.0.1-py3-none-any.whl (24 kB)\n",
      "Collecting brotli\n",
      "  Downloading Brotli-1.0.9-cp37-cp37m-macosx_10_9_x86_64.whl (421 kB)\n",
      "\u001b[K     |████████████████████████████████| 421 kB 2.7 MB/s eta 0:00:01\n",
      "\u001b[?25hRequirement already satisfied: MarkupSafe>=0.23 in ./opt/anaconda3/lib/python3.7/site-packages (from Jinja2>=2.10.1->Flask>=1.0.4->dash) (1.1.1)\n",
      "Building wheels for collected packages: dash-html-components, dash-core-components, dash-table\n",
      "  Building wheel for dash-html-components (setup.py) ... \u001b[?25ldone\n",
      "\u001b[?25h  Created wheel for dash-html-components: filename=dash_html_components-2.0.0-py3-none-any.whl size=4069 sha256=037ac76e8cb858777e4c5f25b2b73a3287f48b60df9b478605e3f4d18ce10f81\n",
      "  Stored in directory: /Users/megangentes/Library/Caches/pip/wheels/ec/6b/81/05aceabd8b27f724e2c96784016287cc1bfbc349ebfda451de\n",
      "  Building wheel for dash-core-components (setup.py) ... \u001b[?25ldone\n",
      "\u001b[?25h  Created wheel for dash-core-components: filename=dash_core_components-2.0.0-py3-none-any.whl size=3801 sha256=8580196c75aadf118ae63caa660dee84d3dbd1c473ebbaff28b342cd7e7a9af4\n",
      "  Stored in directory: /Users/megangentes/Library/Caches/pip/wheels/00/f9/c7/1a6437d794ed753ea9bc9079e761d4fc803a1f1f5d3697b9ec\n",
      "  Building wheel for dash-table (setup.py) ... \u001b[?25ldone\n",
      "\u001b[?25h  Created wheel for dash-table: filename=dash_table-5.0.0-py3-none-any.whl size=3896 sha256=fb1aab49d1d436680cf2e193634b0cd95a1f6549017872ebb05d15298f6e63dd\n",
      "  Stored in directory: /Users/megangentes/Library/Caches/pip/wheels/85/5d/4e/7c276b57992951dbe770bf5caad6448d0539c510663aefd2e2\n",
      "Successfully built dash-html-components dash-core-components dash-table\n",
      "Installing collected packages: tenacity, plotly, dash-html-components, dash-core-components, brotli, flask-compress, dash-table, dash\n",
      "Successfully installed brotli-1.0.9 dash-2.2.0 dash-core-components-2.0.0 dash-html-components-2.0.0 dash-table-5.0.0 flask-compress-1.10.1 plotly-5.6.0 tenacity-8.0.1\n"
     ]
    }
   ],
   "source": [
    "!pip install dash"
   ]
  },
  {
   "cell_type": "code",
   "execution_count": 2,
   "metadata": {},
   "outputs": [
    {
     "name": "stdout",
     "output_type": "stream",
     "text": [
      "Collecting wget\n",
      "  Downloading wget-3.2.zip (10 kB)\n",
      "Building wheels for collected packages: wget\n",
      "  Building wheel for wget (setup.py) ... \u001b[?25ldone\n",
      "\u001b[?25h  Created wheel for wget: filename=wget-3.2-py3-none-any.whl size=9681 sha256=894f52e7617841ada8a2245cc7438704b071eadf182fdbd14285bac732b6f46d\n",
      "  Stored in directory: /Users/megangentes/Library/Caches/pip/wheels/a1/b6/7c/0e63e34eb06634181c63adacca38b79ff8f35c37e3c13e3c02\n",
      "Successfully built wget\n",
      "Installing collected packages: wget\n",
      "Successfully installed wget-3.2\n"
     ]
    }
   ],
   "source": [
    "!pip install wget"
   ]
  },
  {
   "cell_type": "code",
   "execution_count": 3,
   "metadata": {},
   "outputs": [],
   "source": [
    "import wget"
   ]
  },
  {
   "cell_type": "code",
   "execution_count": 4,
   "metadata": {},
   "outputs": [
    {
     "data": {
      "text/plain": [
       "'spacex_launch_dash.csv'"
      ]
     },
     "execution_count": 4,
     "metadata": {},
     "output_type": "execute_result"
    }
   ],
   "source": [
    "wget.download('https://cf-courses-data.s3.us.cloud-object-storage.appdomain.cloud/IBM-DS0321EN-SkillsNetwork/datasets/spacex_launch_dash.csv')"
   ]
  },
  {
   "cell_type": "code",
   "execution_count": 7,
   "metadata": {},
   "outputs": [
    {
     "name": "stdout",
     "output_type": "stream",
     "text": [
      "Requirement already satisfied: jupyter_dash in ./opt/anaconda3/lib/python3.7/site-packages (0.4.1)\n",
      "Requirement already satisfied: ansi2html in ./opt/anaconda3/lib/python3.7/site-packages (from jupyter_dash) (1.7.0)\n",
      "Requirement already satisfied: flask in ./opt/anaconda3/lib/python3.7/site-packages (from jupyter_dash) (1.1.1)\n",
      "Requirement already satisfied: ipykernel in ./opt/anaconda3/lib/python3.7/site-packages (from jupyter_dash) (5.1.4)\n",
      "Requirement already satisfied: requests in ./opt/anaconda3/lib/python3.7/site-packages (from jupyter_dash) (2.22.0)\n",
      "Requirement already satisfied: retrying in ./opt/anaconda3/lib/python3.7/site-packages (from jupyter_dash) (1.3.3)\n",
      "Requirement already satisfied: ipython in ./opt/anaconda3/lib/python3.7/site-packages (from jupyter_dash) (7.12.0)\n",
      "Requirement already satisfied: dash in ./opt/anaconda3/lib/python3.7/site-packages (from jupyter_dash) (2.2.0)\n",
      "Requirement already satisfied: importlib-metadata; python_version < \"3.8\" in ./opt/anaconda3/lib/python3.7/site-packages (from ansi2html->jupyter_dash) (1.5.0)\n",
      "Requirement already satisfied: click>=5.1 in ./opt/anaconda3/lib/python3.7/site-packages (from flask->jupyter_dash) (7.0)\n",
      "Requirement already satisfied: Werkzeug>=0.15 in ./opt/anaconda3/lib/python3.7/site-packages (from flask->jupyter_dash) (1.0.0)\n",
      "Requirement already satisfied: Jinja2>=2.10.1 in ./opt/anaconda3/lib/python3.7/site-packages (from flask->jupyter_dash) (2.11.1)\n",
      "Requirement already satisfied: itsdangerous>=0.24 in ./opt/anaconda3/lib/python3.7/site-packages (from flask->jupyter_dash) (1.1.0)\n",
      "Requirement already satisfied: traitlets>=4.1.0 in ./opt/anaconda3/lib/python3.7/site-packages (from ipykernel->jupyter_dash) (4.3.3)\n",
      "Requirement already satisfied: jupyter-client in ./opt/anaconda3/lib/python3.7/site-packages (from ipykernel->jupyter_dash) (5.3.4)\n",
      "Requirement already satisfied: appnope; platform_system == \"Darwin\" in ./opt/anaconda3/lib/python3.7/site-packages (from ipykernel->jupyter_dash) (0.1.0)\n",
      "Requirement already satisfied: tornado>=4.2 in ./opt/anaconda3/lib/python3.7/site-packages (from ipykernel->jupyter_dash) (6.0.3)\n",
      "Requirement already satisfied: certifi>=2017.4.17 in ./opt/anaconda3/lib/python3.7/site-packages (from requests->jupyter_dash) (2019.11.28)\n",
      "Requirement already satisfied: chardet<3.1.0,>=3.0.2 in ./opt/anaconda3/lib/python3.7/site-packages (from requests->jupyter_dash) (3.0.4)\n",
      "Requirement already satisfied: idna<2.9,>=2.5 in ./opt/anaconda3/lib/python3.7/site-packages (from requests->jupyter_dash) (2.8)\n",
      "Requirement already satisfied: urllib3!=1.25.0,!=1.25.1,<1.26,>=1.21.1 in ./opt/anaconda3/lib/python3.7/site-packages (from requests->jupyter_dash) (1.25.8)\n",
      "Requirement already satisfied: six>=1.7.0 in ./opt/anaconda3/lib/python3.7/site-packages (from retrying->jupyter_dash) (1.14.0)\n",
      "Requirement already satisfied: pexpect; sys_platform != \"win32\" in ./opt/anaconda3/lib/python3.7/site-packages (from ipython->jupyter_dash) (4.8.0)\n",
      "Requirement already satisfied: prompt-toolkit!=3.0.0,!=3.0.1,<3.1.0,>=2.0.0 in ./opt/anaconda3/lib/python3.7/site-packages (from ipython->jupyter_dash) (3.0.3)\n",
      "Requirement already satisfied: jedi>=0.10 in ./opt/anaconda3/lib/python3.7/site-packages (from ipython->jupyter_dash) (0.14.1)\n",
      "Requirement already satisfied: setuptools>=18.5 in ./opt/anaconda3/lib/python3.7/site-packages (from ipython->jupyter_dash) (46.0.0.post20200309)\n",
      "Requirement already satisfied: pygments in ./opt/anaconda3/lib/python3.7/site-packages (from ipython->jupyter_dash) (2.5.2)\n",
      "Requirement already satisfied: decorator in ./opt/anaconda3/lib/python3.7/site-packages (from ipython->jupyter_dash) (4.4.1)\n",
      "Requirement already satisfied: backcall in ./opt/anaconda3/lib/python3.7/site-packages (from ipython->jupyter_dash) (0.1.0)\n",
      "Requirement already satisfied: pickleshare in ./opt/anaconda3/lib/python3.7/site-packages (from ipython->jupyter_dash) (0.7.5)\n",
      "Requirement already satisfied: plotly>=5.0.0 in ./opt/anaconda3/lib/python3.7/site-packages (from dash->jupyter_dash) (5.6.0)\n",
      "Requirement already satisfied: dash-core-components==2.0.0 in ./opt/anaconda3/lib/python3.7/site-packages (from dash->jupyter_dash) (2.0.0)\n",
      "Requirement already satisfied: flask-compress in ./opt/anaconda3/lib/python3.7/site-packages (from dash->jupyter_dash) (1.10.1)\n",
      "Requirement already satisfied: dash-table==5.0.0 in ./opt/anaconda3/lib/python3.7/site-packages (from dash->jupyter_dash) (5.0.0)\n",
      "Requirement already satisfied: dash-html-components==2.0.0 in ./opt/anaconda3/lib/python3.7/site-packages (from dash->jupyter_dash) (2.0.0)\n",
      "Requirement already satisfied: zipp>=0.5 in ./opt/anaconda3/lib/python3.7/site-packages (from importlib-metadata; python_version < \"3.8\"->ansi2html->jupyter_dash) (2.2.0)\n",
      "Requirement already satisfied: MarkupSafe>=0.23 in ./opt/anaconda3/lib/python3.7/site-packages (from Jinja2>=2.10.1->flask->jupyter_dash) (1.1.1)\n",
      "Requirement already satisfied: ipython-genutils in ./opt/anaconda3/lib/python3.7/site-packages (from traitlets>=4.1.0->ipykernel->jupyter_dash) (0.2.0)\n",
      "Requirement already satisfied: jupyter-core>=4.6.0 in ./opt/anaconda3/lib/python3.7/site-packages (from jupyter-client->ipykernel->jupyter_dash) (4.6.1)\n",
      "Requirement already satisfied: pyzmq>=13 in ./opt/anaconda3/lib/python3.7/site-packages (from jupyter-client->ipykernel->jupyter_dash) (18.1.1)\n",
      "Requirement already satisfied: python-dateutil>=2.1 in ./opt/anaconda3/lib/python3.7/site-packages (from jupyter-client->ipykernel->jupyter_dash) (2.8.1)\n",
      "Requirement already satisfied: ptyprocess>=0.5 in ./opt/anaconda3/lib/python3.7/site-packages (from pexpect; sys_platform != \"win32\"->ipython->jupyter_dash) (0.6.0)\n",
      "Requirement already satisfied: wcwidth in ./opt/anaconda3/lib/python3.7/site-packages (from prompt-toolkit!=3.0.0,!=3.0.1,<3.1.0,>=2.0.0->ipython->jupyter_dash) (0.1.8)\n",
      "Requirement already satisfied: parso>=0.5.0 in ./opt/anaconda3/lib/python3.7/site-packages (from jedi>=0.10->ipython->jupyter_dash) (0.5.2)\n",
      "Requirement already satisfied: tenacity>=6.2.0 in ./opt/anaconda3/lib/python3.7/site-packages (from plotly>=5.0.0->dash->jupyter_dash) (8.0.1)\n",
      "Requirement already satisfied: brotli in ./opt/anaconda3/lib/python3.7/site-packages (from flask-compress->dash->jupyter_dash) (1.0.9)\n"
     ]
    }
   ],
   "source": [
    "!pip install jupyter_dash"
   ]
  },
  {
   "cell_type": "code",
   "execution_count": 9,
   "metadata": {},
   "outputs": [
    {
     "name": "stdout",
     "output_type": "stream",
     "text": [
      "Collecting typing-extensions\n",
      "  Downloading typing_extensions-4.1.1-py3-none-any.whl (26 kB)\n",
      "Installing collected packages: typing-extensions\n",
      "Successfully installed typing-extensions-4.1.1\n"
     ]
    }
   ],
   "source": [
    "!pip install typing-extensions"
   ]
  },
  {
   "cell_type": "code",
   "execution_count": 10,
   "metadata": {},
   "outputs": [
    {
     "name": "stderr",
     "output_type": "stream",
     "text": [
      "/Users/megangentes/opt/anaconda3/lib/python3.7/site-packages/ipykernel_launcher.py:5: UserWarning: \n",
      "The dash_html_components package is deprecated. Please replace\n",
      "`import dash_html_components as html` with `from dash import html`\n",
      "  \"\"\"\n",
      "/Users/megangentes/opt/anaconda3/lib/python3.7/site-packages/ipykernel_launcher.py:6: UserWarning: \n",
      "The dash_core_components package is deprecated. Please replace\n",
      "`import dash_core_components as dcc` with `from dash import dcc`\n",
      "  \n"
     ]
    },
    {
     "data": {
      "text/html": [
       "\n",
       "        <iframe\n",
       "            width=\"100%\"\n",
       "            height=\"650\"\n",
       "            src=\"http://127.0.0.1:8050/\"\n",
       "            frameborder=\"0\"\n",
       "            allowfullscreen\n",
       "        ></iframe>\n",
       "        "
      ],
      "text/plain": [
       "<IPython.lib.display.IFrame at 0x118d7c250>"
      ]
     },
     "metadata": {},
     "output_type": "display_data"
    }
   ],
   "source": [
    "# Import required libraries\n",
    "import pandas as pd\n",
    "from jupyter_dash import JupyterDash\n",
    "import dash\n",
    "import dash_html_components as html\n",
    "import dash_core_components as dcc\n",
    "from dash.dependencies import Input, Output\n",
    "import plotly.express as px\n",
    "\n",
    "# Read the airline data into pandas dataframe\n",
    "spacex_df = pd.read_csv(\"spacex_launch_dash.csv\")\n",
    "max_payload = spacex_df['Payload Mass (kg)'].max()\n",
    "min_payload = spacex_df['Payload Mass (kg)'].min()\n",
    "\n",
    "# Create a dash application\n",
    "app = JupyterDash(__name__)\n",
    "\n",
    "# Create an app layout\n",
    "app.layout = html.Div(children=[html.H1('SpaceX Launch Records Dashboard',\n",
    "                                        style={'textAlign': 'center', 'color': '#503D36',\n",
    "                                               'font-size': 40}),\n",
    "                                # TASK 1: Add a dropdown list to enable Launch Site selection\n",
    "                                # The default select value is for ALL sites\n",
    "                                dcc.Dropdown(id='site-dropdown',\n",
    "                                             options=[{'label': 'All Sites', 'value': 'ALL'},\n",
    "                                                      {'label': 'CCAFS LC-40', 'value': 'CCAFS LC-40'},\n",
    "                                                      {'label': 'VAFB SLC-4E', 'value': 'VAFB SLC-4E'},\n",
    "                                                      {'label': 'KSC LC-39A', 'value': 'KSC LC-39A'},\n",
    "                                                      {'label': 'CCAFS SLC-40', 'value': 'CCAFS SLC-40'}],\n",
    "                                             value='ALL',\n",
    "                                             placeholder='Select a Launch Site here',\n",
    "                                             searchable=True),\n",
    "                                html.Br(),\n",
    "\n",
    "                                # TASK 2: Add a pie chart to show the total successful launches count for all sites\n",
    "                                # If a specific launch site was selected, show the Success vs. Failed counts for the site\n",
    "                                html.Div(dcc.Graph(id='success-pie-chart')),\n",
    "                                html.Br(),\n",
    "\n",
    "                                html.P(\"Payload range (Kg):\"),\n",
    "                                # TASK 3: Add a slider to select payload range\n",
    "                                dcc.RangeSlider(id='payload-slider',\n",
    "                                                min=0, max=10000, step=1000,\n",
    "                                                marks={0:'0',\n",
    "                                                       2500:'2500',\n",
    "                                                       5000:'5000',\n",
    "                                                       7500:'7500',\n",
    "                                                       10000:'10000'},\n",
    "                                                value=[min_payload, max_payload]),\n",
    "\n",
    "                                # TASK 4: Add a scatter chart to show the correlation between payload and launch success\n",
    "                                html.Div(dcc.Graph(id='success-payload-scatter-chart')),\n",
    "                                ])\n",
    "\n",
    "# TASK 2:\n",
    "# Add a callback function for `site-dropdown` as input, `success-pie-chart` as output\n",
    "@app.callback(Output(component_id='success-pie-chart', component_property='figure'),\n",
    "              Input(component_id='site-dropdown', component_property='value'))\n",
    "def get_pie_chart(entered_site):\n",
    "    filtered_df = spacex_df\n",
    "    if entered_site == 'ALL':\n",
    "        fig = px.pie(spacex_df, values='class', \n",
    "        names='Launch Site', \n",
    "        title='Total Success Launches By Site')\n",
    "        return fig\n",
    "    else:\n",
    "        filtered_df = spacex_df[spacex_df['Launch Site']==entered_site].groupby(['Launch Site', 'class']).size().reset_index(name='class count')\n",
    "        fig=px.pie(filtered_df, values='class count',\n",
    "        names='class', \n",
    "        title='Total Success Launches for site {}'.format(entered_site))\n",
    "        return fig\n",
    "# TASK 4:\n",
    "# Add a callback function for `site-dropdown` and `payload-slider` as inputs, `success-payload-scatter-chart` as output\n",
    "@app.callback(Output(component_id='success-payload-scatter-chart', component_property='figure'),\n",
    "              [Input(component_id='site-dropdown', component_property='value'),\n",
    "               Input(component_id='payload-slider', component_property='value')])\n",
    "def get_scatter_chart(entered_site,entered_payloads):\n",
    "    sel_payload_min = entered_payloads[0]\n",
    "    sel_payload_max = entered_payloads[1]\n",
    "    filtered_df = spacex_df[(spacex_df['Payload Mass (kg)'] >= sel_payload_min) & (spacex_df['Payload Mass (kg)'] <= sel_payload_max)]\n",
    "    if entered_site == 'ALL':\n",
    "        fig = px.scatter(filtered_df, x='Payload Mass (kg)',y='class',\n",
    "        color='Booster Version Category', \n",
    "        title='Correlation between Payload and Success for all Sites')\n",
    "        return fig\n",
    "    else:\n",
    "        filtered_dfs = filtered_df[filtered_df['Launch Site']==entered_site]\n",
    "        fig=px.scatter(filtered_dfs, x='Payload Mass (kg)',y='class', \n",
    "        color='Booster Version Category',\n",
    "        title=f'Correlation between Payload and Success for site {entered_site}')\n",
    "        return fig\n",
    "\n",
    "# Run the app\n",
    "if __name__ == '__main__':\n",
    "    app.run_server(mode='inline')"
   ]
  },
  {
   "cell_type": "code",
   "execution_count": null,
   "metadata": {},
   "outputs": [],
   "source": []
  }
 ],
 "metadata": {
  "kernelspec": {
   "display_name": "Python 3",
   "language": "python",
   "name": "python3"
  },
  "language_info": {
   "codemirror_mode": {
    "name": "ipython",
    "version": 3
   },
   "file_extension": ".py",
   "mimetype": "text/x-python",
   "name": "python",
   "nbconvert_exporter": "python",
   "pygments_lexer": "ipython3",
   "version": "3.7.6"
  }
 },
 "nbformat": 4,
 "nbformat_minor": 4
}
